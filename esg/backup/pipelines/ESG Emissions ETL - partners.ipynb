{
 "cells": [
  {
   "cell_type": "markdown",
   "metadata": {
    "application/vnd.databricks.v1+cell": {
     "cellMetadata": {},
     "inputWidgets": {},
     "nuid": "fe7aa36c-e310-4638-95b6-f058290cc67f",
     "showTitle": false,
     "tableResultSettingsMap": {},
     "title": ""
    }
   },
   "source": [
    "## 🌱 ESG emissions Declarative Pipeline - Partners data\n",
    "\n",
    "**Purpose:** Use Agent model to extract emission information from partners data (PDFs) in batch.\n",
    "\n",
    "**Data Source:** Delta table containing PDF texts"
   ]
  },
  {
   "cell_type": "markdown",
   "metadata": {
    "application/vnd.databricks.v1+cell": {
     "cellMetadata": {},
     "inputWidgets": {},
     "nuid": "06b6fea5-866d-4329-8864-8f88dd68c3cb",
     "showTitle": false,
     "tableResultSettingsMap": {},
     "title": ""
    }
   },
   "source": [
    "### STEP 1 : BATCH INFERENCE\n",
    "\n",
    "**Purpose:** Run batch inference on all documents using the information extraction Agent model."
   ]
  },
  {
   "cell_type": "code",
   "execution_count": 0,
   "metadata": {
    "application/vnd.databricks.v1+cell": {
     "cellMetadata": {},
     "inputWidgets": {},
     "nuid": "321825f2-5829-4e7b-b7dd-8714208b8891",
     "showTitle": false,
     "tableResultSettingsMap": {},
     "title": ""
    }
   },
   "outputs": [],
   "source": [
    "CREATE OR REFRESH STREAMING TABLE partners_data_raw \n",
    "  TBLPROPERTIES (\n",
    "    'delta.feature.variantType-preview' = 'supported'\n",
    "  )\n",
    "  AS\n",
    "  WITH query_results AS (\n",
    "    SELECT\n",
    "      `text` AS input,\n",
    "      ai_query(\n",
    "        'kie-ec44258a-endpoint',\n",
    "        input,\n",
    "        failOnError => false\n",
    "      ) AS response\n",
    "    FROM STREAM(`devconnect_2025`.`esg`.`document_texts`)\n",
    "  )\n",
    "  SELECT\n",
    "    input,\n",
    "    response.result AS response,\n",
    "    response.errorMessage AS error\n",
    "  FROM query_results;"
   ]
  },
  {
   "cell_type": "markdown",
   "metadata": {
    "application/vnd.databricks.v1+cell": {
     "cellMetadata": {},
     "inputWidgets": {},
     "nuid": "db7773d7-f757-433a-b3e3-acbce1628bf8",
     "showTitle": false,
     "tableResultSettingsMap": {},
     "title": ""
    }
   },
   "source": [
    "### STEP 2 : POST PROCESSING\n",
    "\n",
    "**Purpose:** Process query results , handle edge cases and apply constraints on the extracted data"
   ]
  },
  {
   "cell_type": "code",
   "execution_count": 0,
   "metadata": {
    "application/vnd.databricks.v1+cell": {
     "cellMetadata": {},
     "inputWidgets": {},
     "nuid": "cc5b6eb7-2419-4cf9-a4c5-bdf9c6664177",
     "showTitle": false,
     "tableResultSettingsMap": {},
     "title": ""
    }
   },
   "outputs": [],
   "source": [
    "CREATE OR REFRESH MATERIALIZED VIEW partners_data_parsed (\n",
    "  CONSTRAINT valid_company_name EXPECT (org_name IS NOT NULL AND length(trim(org_name)) > 1) ON VIOLATION DROP ROW,\n",
    "  CONSTRAINT reasonable_scope_1_ghg EXPECT (scope_3_ghg IS NULL OR (scope_3_ghg >= 0 AND scope_3_ghg < 1e10)) ON VIOLATION DROP ROW\n",
    ")\n",
    "AS SELECT \n",
    "  get_json_object(response, '$.company_name') as org_name,\n",
    "  CAST(\n",
    "    get_json_object(response, '$.annual_revenue_usd') AS DOUBLE\n",
    "  ) as annual_revenue_usd,\n",
    "  CAST(\n",
    "  get_json_object(response, '$.number_of_employees') \n",
    "  AS INTEGER\n",
    "  ) as nb_employees,\n",
    "  CAST(\n",
    "    get_json_object(response, '$.scope_3_emissions_tCO2')\n",
    "    AS DOUBLE\n",
    "  ) as scope_3_ghg\n",
    "FROM partners_data_raw\n",
    "WHERE get_json_object(response, '$.company_name') IS NOT NULL\n",
    "  AND error IS NULL;"
   ]
  }
 ],
 "metadata": {
  "application/vnd.databricks.v1+notebook": {
   "computePreferences": null,
   "dashboards": [],
   "environmentMetadata": null,
   "inputWidgetPreferences": null,
   "language": "sql",
   "notebookMetadata": {},
   "notebookName": "ESG Emissions ETL - partners",
   "widgets": {}
  },
  "language_info": {
   "name": "sql"
  }
 },
 "nbformat": 4,
 "nbformat_minor": 0
}
