{
 "cells": [
  {
   "cell_type": "markdown",
   "metadata": {
    "application/vnd.databricks.v1+cell": {
     "cellMetadata": {},
     "inputWidgets": {},
     "nuid": "bd1bf14b-c04c-4b5d-aa60-d3dc61685542",
     "showTitle": false,
     "tableResultSettingsMap": {},
     "title": ""
    }
   },
   "source": [
    "## 🌱 ESG emissions Declarative Pipeline - Public companies data\n",
    "\n",
    "**Purpose:** Extract, clean and load the CSV data containing the emissions and revenue of public companies\n",
    "\n",
    "**Data Source:** CSV files\n",
    "\n",
    "**Architecture:** Bronze → Silver → Gold (Medallion Pattern)  "
   ]
  },
  {
   "cell_type": "markdown",
   "metadata": {
    "application/vnd.databricks.v1+cell": {
     "cellMetadata": {
      "byteLimit": 2048000,
      "rowLimit": 10000
     },
     "inputWidgets": {},
     "nuid": "8cf88e99-70d1-49c8-b501-475377ba16dd",
     "showTitle": false,
     "tableResultSettingsMap": {},
     "title": ""
    }
   },
   "source": [
    "### 🥉 BRONZE LAYER - RAW DATA INGESTION\n",
    "\n",
    "**Purpose:** Ingest raw CSV files into Bronze layer\n"
   ]
  },
  {
   "cell_type": "code",
   "execution_count": 0,
   "metadata": {
    "application/vnd.databricks.v1+cell": {
     "cellMetadata": {
      "byteLimit": 2048000,
      "rowLimit": 10000
     },
     "inputWidgets": {},
     "nuid": "6d2db9fd-8b21-4f15-b846-9287d852b054",
     "showTitle": false,
     "tableResultSettingsMap": {},
     "title": ""
    }
   },
   "outputs": [],
   "source": [
    "CREATE VIEW companies_data_bronze\n",
    "AS\n",
    "SELECT * , \n",
    "  regexp_extract(_metadata.file_path, '([^/]+\\.csv)$') AS filename \n",
    "FROM read_files('/Volumes/devconnect_2025/esg/sample-data/emmissions*.csv', format => \"csv\");"
   ]
  },
  {
   "cell_type": "code",
   "execution_count": 0,
   "metadata": {
    "application/vnd.databricks.v1+cell": {
     "cellMetadata": {},
     "inputWidgets": {},
     "nuid": "e9930b6f-7932-49f8-9463-dd727fdd1619",
     "showTitle": false,
     "tableResultSettingsMap": {},
     "title": ""
    }
   },
   "outputs": [],
   "source": [
    "CREATE VIEW companies_annual_revenue_bronze\n",
    "AS\n",
    "SELECT *, \n",
    "regexp_extract(_metadata.file_path, '([^/]+\\.csv)$') AS filename \n",
    "FROM read_files('/Volumes/devconnect_2025/esg/sample-data/companies-annual-revenue.csv', format => \"csv\");"
   ]
  },
  {
   "cell_type": "markdown",
   "metadata": {
    "application/vnd.databricks.v1+cell": {
     "cellMetadata": {},
     "inputWidgets": {},
     "nuid": "13e17cf0-31a4-4423-9ca8-620d876e404e",
     "showTitle": false,
     "tableResultSettingsMap": {},
     "title": ""
    }
   },
   "source": [
    "## 🥈 SILVER LAYER - DATA CLEANSING & STANDARDIZATION\n",
    "\n",
    "**Purpose:** Clean, standardize, and type-cast raw emissions data\n",
    "\n",
    "**Transformations:**\n",
    "- ✅ Rename columns for consistency and ease of use\n",
    "- ✅ Convert string emissions values to FLOAT for calculations\n",
    "- ✅ Enrich data with companies revenue\n",
    "- ✅ Add data quality constraints"
   ]
  },
  {
   "cell_type": "code",
   "execution_count": 0,
   "metadata": {
    "application/vnd.databricks.v1+cell": {
     "cellMetadata": {},
     "inputWidgets": {},
     "nuid": "d591ed8f-efcb-42c9-bb4f-d8977dd545eb",
     "showTitle": false,
     "tableResultSettingsMap": {},
     "title": ""
    }
   },
   "outputs": [],
   "source": [
    "CREATE MATERIALIZED VIEW companies_annual_revenue_silver\n",
    "AS\n",
    "SELECT\n",
    "  `Organization Legal Name` AS org_name,\n",
    "  `Annual Revenue (Billion USD)` AS revenue_usd_billions\n",
    "FROM companies_annual_revenue_bronze;"
   ]
  },
  {
   "cell_type": "code",
   "execution_count": 0,
   "metadata": {
    "application/vnd.databricks.v1+cell": {
     "cellMetadata": {},
     "inputWidgets": {},
     "nuid": "85e69bdc-505d-4b29-a0d9-1179ecb38a7f",
     "showTitle": false,
     "tableResultSettingsMap": {},
     "title": ""
    }
   },
   "outputs": [],
   "source": [
    "CREATE MATERIALIZED VIEW companies_data_silver_1\n",
    "AS\n",
    "SELECT\n",
    "  `Organization Legal Name` AS org_name,\n",
    "  `Reporting year` AS reporting_year,\n",
    "  `Data model for disclosure` AS disclosure_model,\n",
    "  `Jurisdiction` AS jurisdiction,\n",
    "  CAST(`Total Scope 1 GHG emissions` AS FLOAT) AS scope_1_ghg,\n",
    "  `Total Scope 1 GHG emissions units` AS scope_1_units,\n",
    "  CAST(`Total Scope 2 location-based GHG emissions` AS FLOAT) AS scope_2_ghg,\n",
    "  `Total Scope 2 location-based GHG emissions units` AS scope_2_units,\n",
    "  CAST(`Total Scope 3 GHG emissions` AS FLOAT) AS scope_3_ghg,\n",
    "  `Total Scope 3 GHG emissions units` AS scope_3_units,\n",
    "  `filename` AS filename,\n",
    "  scope_1_ghg + scope_2_ghg + scope_3_ghg AS scope_all_ghg\n",
    "FROM companies_data_bronze;"
   ]
  },
  {
   "cell_type": "code",
   "execution_count": 0,
   "metadata": {
    "application/vnd.databricks.v1+cell": {
     "cellMetadata": {},
     "inputWidgets": {},
     "nuid": "f829d4d1-72ba-49d9-9bf7-eb1d5e3c8575",
     "showTitle": false,
     "tableResultSettingsMap": {},
     "title": ""
    }
   },
   "outputs": [],
   "source": [
    "CREATE MATERIALIZED VIEW companies_data_silver_2\n",
    "(\n",
    "  CONSTRAINT valid_company_name EXPECT (org_name IS NOT NULL AND length(trim(org_name)) > 1) ON VIOLATION DROP ROW,\n",
    "  CONSTRAINT has_revenue EXPECT (revenue_usd_billions IS NOT NULL OR revenue_usd_billions = 0) ON VIOLATION DROP ROW\n",
    ")\n",
    "AS\n",
    "SELECT \n",
    "  silver.*,\n",
    "  LAG(scope_all_ghg) OVER (PARTITION BY silver.org_name ORDER BY reporting_year) AS scope_all_ghg_prev_year,\n",
    "  scope_all_ghg - scope_all_ghg_prev_year AS scope_all_ghg_yoy_growth_delta,\n",
    "  ROUND(((scope_all_ghg / scope_all_ghg_prev_year) - 1), 2) * 100 AS scope_all_ghg_yoy_growth_pct,\n",
    "  revenue.revenue_usd_billions * 10e9 AS revenue_usd_billions\n",
    "FROM companies_data_silver_1 silver\n",
    "LEFT JOIN companies_annual_revenue_silver revenue\n",
    "ON silver.org_name = revenue.org_name;"
   ]
  },
  {
   "cell_type": "markdown",
   "metadata": {
    "application/vnd.databricks.v1+cell": {
     "cellMetadata": {},
     "inputWidgets": {},
     "nuid": "611bcfa9-9c69-4a01-9a92-94f0b9e4e9f0",
     "showTitle": false,
     "tableResultSettingsMap": {},
     "title": ""
    }
   },
   "source": [
    "## 🥇 GOLD LAYER - BUSINESS-READY ANALYTICS\n",
    "\n",
    "**Purpose:** Create ranked datasets for executive dashboards & reporting\n",
    "\n",
    "**Use Cases:** \n",
    "- ESG scorecards and sustainability benchmarking\n",
    "- Regulatory compliance reporting\n",
    "- Investment decision support"
   ]
  },
  {
   "cell_type": "code",
   "execution_count": 0,
   "metadata": {
    "application/vnd.databricks.v1+cell": {
     "cellMetadata": {},
     "inputWidgets": {},
     "nuid": "4827f7fc-33b6-496e-bd40-05a685730106",
     "showTitle": false,
     "tableResultSettingsMap": {},
     "title": ""
    }
   },
   "outputs": [],
   "source": [
    "CREATE MATERIALIZED VIEW companies_data_gold\n",
    "AS\n",
    "SELECT \n",
    "    silver.*, \n",
    "    RANK() OVER (PARTITION BY silver.reporting_year ORDER BY silver.scope_all_ghg DESC) AS rank_ghg_by_year,\n",
    "    RANK() OVER (PARTITION BY silver.reporting_year ORDER BY silver.scope_all_ghg_yoy_growth_delta DESC) AS rank_delta_by_year,\n",
    "    RANK() OVER (PARTITION BY silver.reporting_year ORDER BY silver.scope_all_ghg_yoy_growth_pct DESC) AS rank_growth_pct_by_year\n",
    "FROM \n",
    "    companies_data_silver_2 silver;"
   ]
  }
 ],
 "metadata": {
  "application/vnd.databricks.v1+notebook": {
   "computePreferences": null,
   "dashboards": [],
   "environmentMetadata": {
    "base_environment": "",
    "environment_version": "2"
   },
   "inputWidgetPreferences": null,
   "language": "sql",
   "notebookMetadata": {
    "pythonIndentUnit": 2
   },
   "notebookName": "ESG Emissions ETL - public companies",
   "widgets": {}
  },
  "language_info": {
   "name": "sql"
  }
 },
 "nbformat": 4,
 "nbformat_minor": 0
}
